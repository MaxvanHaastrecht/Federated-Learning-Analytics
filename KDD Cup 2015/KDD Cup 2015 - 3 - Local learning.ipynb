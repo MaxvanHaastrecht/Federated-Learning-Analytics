{
 "cells": [
  {
   "cell_type": "markdown",
   "id": "88da9d50",
   "metadata": {},
   "source": [
    "This notebook uses the CSVs created with the OULAD - 1 - Feature engineering notebook. Make sure to run the feature engineering code before continuing with this notebook. Additionally, this notebook uses the non-standard library [XGBoost](https://xgboost.readthedocs.io/en/stable/), which you may need to install before proceeding."
   ]
  },
  {
   "cell_type": "markdown",
   "id": "8235be4d",
   "metadata": {},
   "source": [
    "### Import libraries"
   ]
  },
  {
   "cell_type": "code",
   "execution_count": null,
   "id": "9abf47d4",
   "metadata": {},
   "outputs": [],
   "source": [
    "import numpy as np\n",
    "import pandas as pd\n",
    "\n",
    "from sklearn.model_selection import train_test_split\n",
    "from sklearn.preprocessing import StandardScaler\n",
    "from sklearn.metrics import accuracy_score, f1_score, roc_auc_score\n",
    "\n",
    "from xgboost import XGBClassifier"
   ]
  },
  {
   "cell_type": "markdown",
   "id": "414154c9",
   "metadata": {},
   "source": [
    "### Define function to split data over local clients"
   ]
  },
  {
   "cell_type": "code",
   "execution_count": null,
   "id": "d1a11735",
   "metadata": {},
   "outputs": [],
   "source": [
    "def split_into_clients(X, y, n_clients, seed):\n",
    "    n_samples = len(X)\n",
    "\n",
    "    np.random.seed(seed)\n",
    "    clients_indices = []\n",
    "    random_indices = np.random.choice(n_samples, n_samples, replace = False)\n",
    "    clients_indices = np.array_split(random_indices, n_clients)\n",
    "    \n",
    "    clients = []\n",
    "    for client_indices in clients_indices:\n",
    "        X_client = X[client_indices].copy()\n",
    "        y_client = y[client_indices]\n",
    "\n",
    "        clients.append((X_client, y_client))\n",
    "\n",
    "    return clients"
   ]
  },
  {
   "cell_type": "markdown",
   "id": "fa937ac4",
   "metadata": {},
   "source": [
    "### Define function to train model"
   ]
  },
  {
   "cell_type": "code",
   "execution_count": null,
   "id": "c89d1e31",
   "metadata": {},
   "outputs": [],
   "source": [
    "def train_model(X, y, seed):\n",
    "    X_train, X_test, y_train, y_test = train_test_split(X, y, test_size = 0.2, random_state = seed)\n",
    "        \n",
    "    clf = XGBClassifier(tree_method = 'gpu_hist', random_state = seed)\n",
    "        \n",
    "    model = clf.fit(X_train, y_train)\n",
    "    y_pred = clf.predict(X_test)\n",
    "    y_pred_probs = clf.predict_proba(X_test)[:, 1]\n",
    "        \n",
    "    return accuracy_score(y_test, y_pred), f1_score(y_test, y_pred), roc_auc_score(y_test, y_pred_probs)"
   ]
  },
  {
   "cell_type": "markdown",
   "id": "9056ff35",
   "metadata": {},
   "source": [
    "### Read data and train model"
   ]
  },
  {
   "cell_type": "markdown",
   "id": "1d9b3b98",
   "metadata": {},
   "source": [
    "In this code example we set the number of clients to 10. Changing N_CLIENTS to another value will easily yield the results for other local client numbers."
   ]
  },
  {
   "cell_type": "code",
   "execution_count": null,
   "id": "00603daa",
   "metadata": {},
   "outputs": [],
   "source": [
    "df = pd.read_csv('data/kdd_cup_2015_features.csv')\n",
    "X = df.drop(columns = ['enroll_id', 'dropout']).to_numpy()\n",
    "y = df['dropout'].to_numpy().ravel()\n",
    "\n",
    "input_dim = X.shape[1]\n",
    "output_dim = len(np.unique(y))\n",
    "\n",
    "scaler = StandardScaler()\n",
    "X = scaler.fit_transform(X)\n",
    "\n",
    "size_dataset = len(X)\n",
    "N_CLIENTS = 10\n",
    "\n",
    "acc_arr, f1_arr, auc_arr = [], [], []\n",
    "for seed in range(10):\n",
    "    acc_arr_round, f1_arr_round, auc_arr_round = [], [], []\n",
    "    \n",
    "    clients = split_into_clients(X, y, N_CLIENTS, seed)\n",
    "    for client in clients:\n",
    "        client_X, client_y = client\n",
    "        \n",
    "        client_acc, client_f1, client_auc = train_model(client_X, client_y, seed)\n",
    "        weight_client = len(client_X) / size_dataset\n",
    "        \n",
    "        acc_arr_round.append(client_acc * weight_client)\n",
    "        f1_arr_round.append(client_f1 * weight_client)\n",
    "        auc_arr_round.append(client_auc * weight_client)\n",
    "        \n",
    "    acc_arr.append(sum(acc_arr_round))\n",
    "    f1_arr.append(sum(f1_arr_round))\n",
    "    auc_arr.append(sum(auc_arr_round))\n",
    "    \n",
    "    print(f\"Round {seed + 1} complete. Avg auc round: {sum(auc_arr_round)}, Avg f1 round: {sum(f1_arr_round)}\")"
   ]
  },
  {
   "cell_type": "markdown",
   "id": "45ffd78a",
   "metadata": {},
   "source": [
    "### Store results as CSV"
   ]
  },
  {
   "cell_type": "code",
   "execution_count": null,
   "id": "e95fcdf2",
   "metadata": {},
   "outputs": [],
   "source": [
    "df = pd.DataFrame({'acc': acc_arr, 'f1': f1_arr, 'auc': auc_arr})\n",
    "\n",
    "df.to_csv('kdd_cup_2015_local_10clients.csv', index = False)"
   ]
  }
 ],
 "metadata": {
  "kernelspec": {
   "display_name": "Python [conda env:swarm]",
   "language": "python",
   "name": "conda-env-swarm-py"
  },
  "language_info": {
   "codemirror_mode": {
    "name": "ipython",
    "version": 3
   },
   "file_extension": ".py",
   "mimetype": "text/x-python",
   "name": "python",
   "nbconvert_exporter": "python",
   "pygments_lexer": "ipython3",
   "version": "3.10.11"
  }
 },
 "nbformat": 4,
 "nbformat_minor": 5
}
