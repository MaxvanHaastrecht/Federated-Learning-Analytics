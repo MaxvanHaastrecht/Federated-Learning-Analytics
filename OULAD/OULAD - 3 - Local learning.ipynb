{
 "cells": [
  {
   "cell_type": "markdown",
   "id": "1f99d7f0",
   "metadata": {},
   "source": [
    "This notebook uses the CSVs created with the OULAD - 1 - Feature engineering notebook. Make sure to run the feature engineering code before continuing with this notebook. Additionally, this notebook uses the non-standard library [XGBoost](https://xgboost.readthedocs.io/en/stable/), which you may need to install before proceeding.\n",
    "\n",
    "We furthermore use the 'pass-fail' scenario as an example for this notebook. Results for the other OULAD scenarios can easily be obtained by altering the CSV file names."
   ]
  },
  {
   "cell_type": "markdown",
   "id": "f896f5d7",
   "metadata": {},
   "source": [
    "### Import libraries and define training functions"
   ]
  },
  {
   "cell_type": "code",
   "execution_count": null,
   "id": "5fc2ee33",
   "metadata": {},
   "outputs": [],
   "source": [
    "import numpy as np\n",
    "import pandas as pd\n",
    "\n",
    "from sklearn.model_selection import train_test_split\n",
    "from sklearn.preprocessing import StandardScaler\n",
    "from sklearn.metrics import accuracy_score, f1_score\n",
    "\n",
    "from xgboost import XGBClassifier"
   ]
  },
  {
   "cell_type": "code",
   "execution_count": null,
   "id": "45d75284",
   "metadata": {},
   "outputs": [],
   "source": [
    "def split_into_clients(X, y, n_clients, region_dummy, seed):\n",
    "    n_samples = len(X)\n",
    "    \n",
    "    assert n_samples == len(y), 'Number of samples in X and y must be the same.'\n",
    "    assert n_clients > 0, 'Number of clients must be greater than 0.'\n",
    "    assert n_clients <= n_samples, 'Number of clients cannot be greater than number of samples.'\n",
    "\n",
    "    np.random.seed(seed)\n",
    "    clients_indices = []\n",
    "    if region_dummy:\n",
    "        for col_idx in range(38,51):\n",
    "            column = X[:, col_idx]\n",
    "            # Due to use of standard scaler should not check for = 1, but > 0\n",
    "            clients_indices.append(np.where(column > 0)[0])\n",
    "    else:\n",
    "        random_indices = np.random.choice(n_samples, n_samples, replace = False)\n",
    "        clients_indices = np.array_split(random_indices, n_clients)\n",
    "    \n",
    "    clients = []\n",
    "    for client_indices in clients_indices:\n",
    "        X_client = X[client_indices].copy()\n",
    "        y_client = y[client_indices]\n",
    "\n",
    "        clients.append((X_client, y_client))\n",
    "\n",
    "    return clients\n",
    "\n",
    "def train_model(X, y, seed):\n",
    "    X_train, X_test, y_train, y_test = train_test_split(X, y, test_size = 0.2, random_state = seed)\n",
    "        \n",
    "    clf = XGBClassifier(random_state = seed)\n",
    "        \n",
    "    model = clf.fit(X_train, y_train)\n",
    "    y_pred = clf.predict(X_test)\n",
    "        \n",
    "    return accuracy_score(y_test, y_pred), f1_score(y_test, y_pred)"
   ]
  },
  {
   "cell_type": "markdown",
   "id": "a7872277",
   "metadata": {},
   "source": [
    "### Read data, set relevant constants, and train models"
   ]
  },
  {
   "cell_type": "code",
   "execution_count": null,
   "id": "67a73bb3",
   "metadata": {},
   "outputs": [],
   "source": [
    "X = pd.read_csv('oulad_pass_fail_x.csv').to_numpy()\n",
    "y = pd.read_csv('oulad_pass_fail_y.csv').to_numpy().ravel()\n",
    "\n",
    "scaler = StandardScaler()\n",
    "X = scaler.fit_transform(X)"
   ]
  },
  {
   "cell_type": "markdown",
   "id": "550e0695",
   "metadata": {},
   "source": [
    "In this code example we set the number of clients to 10. Changing N_CLIENTS to another value will easily yield the results for other local client numbers."
   ]
  },
  {
   "cell_type": "code",
   "execution_count": null,
   "id": "f2dc0b69",
   "metadata": {},
   "outputs": [],
   "source": [
    "size_dataset = len(X)\n",
    "N_CLIENTS = 10\n",
    "REGION_DUMMY = False\n",
    "if REGION_DUMMY:\n",
    "    N_CLIENTS = 13\n",
    "\n",
    "acc_arr, f1_arr = [], []\n",
    "for seed in range(10):\n",
    "    acc_arr_round, f1_arr_round = [], []\n",
    "    \n",
    "    clients = split_into_clients(X, y, N_CLIENTS, REGION_DUMMY, seed)\n",
    "    for client in clients:\n",
    "        client_X, client_y = client\n",
    "        \n",
    "        client_acc, client_f1 = train_model(client_X, client_y, seed)\n",
    "        weight_client = len(client_X) / size_dataset\n",
    "        \n",
    "        acc_arr_round.append(client_acc * weight_client)\n",
    "        f1_arr_round.append(client_f1 * weight_client)\n",
    "        \n",
    "    acc_arr.append(sum(acc_arr_round))\n",
    "    f1_arr.append(sum(f1_arr_round))\n",
    "    \n",
    "    print(f\"Round {seed + 1} complete. Avg acc round: {sum(acc_arr_round)}, Avg f1 round: {sum(f1_arr_round)}\")"
   ]
  },
  {
   "cell_type": "markdown",
   "id": "93864dbc",
   "metadata": {},
   "source": [
    "### Store results as CSV"
   ]
  },
  {
   "cell_type": "code",
   "execution_count": null,
   "id": "3f69038a",
   "metadata": {},
   "outputs": [],
   "source": [
    "df = pd.DataFrame({'acc': acc_arr, 'f1': f1_arr})\n",
    "\n",
    "df.to_csv('oulad_pass_fail_local_10clients.csv', index = False)"
   ]
  }
 ],
 "metadata": {
  "kernelspec": {
   "display_name": "Python [conda env:swarm]",
   "language": "python",
   "name": "conda-env-swarm-py"
  },
  "language_info": {
   "codemirror_mode": {
    "name": "ipython",
    "version": 3
   },
   "file_extension": ".py",
   "mimetype": "text/x-python",
   "name": "python",
   "nbconvert_exporter": "python",
   "pygments_lexer": "ipython3",
   "version": "3.10.11"
  }
 },
 "nbformat": 4,
 "nbformat_minor": 5
}
