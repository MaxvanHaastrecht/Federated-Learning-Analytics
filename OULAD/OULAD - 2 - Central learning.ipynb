{
 "cells": [
  {
   "cell_type": "markdown",
   "id": "92dc541b",
   "metadata": {},
   "source": [
    "This notebook uses the CSVs created with the OULAD - 1 - Feature engineering notebook. Make sure to run the feature engineering code before continuing with this notebook. Additionally, this notebook uses some non-standard libraries which you may need to install first, such as [PyTorch](https://pytorch.org/), [XGBoost](https://xgboost.readthedocs.io/en/stable/), and [CatBoost](https://catboost.ai/).\n",
    "\n",
    "We furthermore use the 'pass-fail' scenario as an example for this notebook. Results for the other OULAD scenarios can easily be obtained by altering the CSV file names."
   ]
  },
  {
   "cell_type": "markdown",
   "id": "65be432e",
   "metadata": {},
   "source": [
    "### Import libraries, load and pre-process data"
   ]
  },
  {
   "cell_type": "code",
   "execution_count": null,
   "id": "cb823ed0",
   "metadata": {},
   "outputs": [],
   "source": [
    "import numpy as np\n",
    "import pandas as pd\n",
    "\n",
    "import torch\n",
    "import torch.nn as nn\n",
    "import torch.optim as optim\n",
    "import torch.nn.utils as torch_utils\n",
    "\n",
    "from sklearn.ensemble import RandomForestClassifier\n",
    "from sklearn.linear_model import LogisticRegression\n",
    "from sklearn.neural_network import MLPClassifier\n",
    "from sklearn.model_selection import train_test_split\n",
    "from sklearn.preprocessing import StandardScaler\n",
    "from sklearn.metrics import accuracy_score, f1_score\n",
    "\n",
    "from xgboost import XGBClassifier\n",
    "from catboost import CatBoostClassifier\n",
    "\n",
    "X = pd.read_csv('oulad_pass_fail_x.csv').to_numpy()\n",
    "y = pd.read_csv('oulad_pass_fail_y.csv').to_numpy().ravel()\n",
    "\n",
    "input_dim = X.shape[1]\n",
    "output_dim = len(np.unique(y))\n",
    "\n",
    "scaler = StandardScaler()\n",
    "X = scaler.fit_transform(X)"
   ]
  },
  {
   "cell_type": "markdown",
   "id": "75f96fcb",
   "metadata": {},
   "source": [
    "### Cross-validation experiments with scikit-learn, XGBoost, and CatBoost"
   ]
  },
  {
   "cell_type": "code",
   "execution_count": null,
   "id": "319b9e2a",
   "metadata": {},
   "outputs": [],
   "source": [
    "def random_cross_val(X, y, k, classifier):\n",
    "    acc, f1 = [], []\n",
    "    for i in range(k):\n",
    "        print(f\"Round {i} of {k}\")\n",
    "        X_train, X_test, y_train, y_test = train_test_split(X, y, test_size = 0.2, random_state = i)\n",
    "        \n",
    "        clf = None\n",
    "        if classifier == 'rf':\n",
    "            clf = RandomForestClassifier(random_state = 42)\n",
    "        elif classifier == 'lr':\n",
    "            clf = LogisticRegression(max_iter = 1000, random_state = 42)\n",
    "        elif classifier == 'mlp':\n",
    "            clf = MLPClassifier(hidden_layer_sizes = (30, 10), random_state = 42)\n",
    "        elif classifier == 'gb':\n",
    "            clf = XGBClassifier(random_state = 42)\n",
    "        elif classifier == 'cb':\n",
    "            clf = CatBoostClassifier(task_type = 'GPU', silent = True, random_state = 42)\n",
    "        else:\n",
    "            print(f\"Classifier {classifier} is not a valid classifier. Choose from: rf, lr, mlp, gb, or cb.\")\n",
    "        \n",
    "        model = clf.fit(X_train, y_train)\n",
    "        y_pred = clf.predict(X_test)\n",
    "        \n",
    "        acc.append(accuracy_score(y_test, y_pred))\n",
    "        f1.append(f1_score(y_test, y_pred))\n",
    "        \n",
    "    return acc, f1"
   ]
  },
  {
   "cell_type": "code",
   "execution_count": null,
   "id": "5eca2657",
   "metadata": {},
   "outputs": [],
   "source": [
    "acc_rf, f1_rf = random_cross_val(X, y, 10, 'rf')\n",
    "acc_lr, f1_lr = random_cross_val(X, y, 10, 'lr')\n",
    "acc_mlp, f1_mlp = random_cross_val(X, y, 10, 'mlp')\n",
    "acc_gb, f1_gb = random_cross_val(X, y, 10, 'gb')\n",
    "acc_cb, f1_cb = random_cross_val(X, y, 10, 'cb')"
   ]
  },
  {
   "cell_type": "markdown",
   "id": "b18873ab",
   "metadata": {},
   "source": [
    "### Cross-valiation experiments with PyTorch"
   ]
  },
  {
   "cell_type": "code",
   "execution_count": null,
   "id": "21298f3d",
   "metadata": {},
   "outputs": [],
   "source": [
    "class NeuralNetwork(nn.Module):\n",
    "    def __init__(self, in_dim, out_dim):\n",
    "        super(NeuralNetwork, self).__init__()\n",
    "        self.input_layer    = nn.Linear(in_dim,30)\n",
    "        self.hidden_layer1  = nn.Linear(30,10)\n",
    "        self.output_layer   = nn.Linear(10,out_dim)\n",
    "        self.relu = nn.ReLU()\n",
    "    \n",
    "    def forward(self,x):\n",
    "        out =  self.relu(self.input_layer(x))\n",
    "        out =  self.relu(self.hidden_layer1(out))\n",
    "        out =  self.output_layer(out)\n",
    "        return out\n",
    "    \n",
    "def train_model(X, y, input_dim, output_dim, loss_fn, lr, optim_str, num_epochs, batch_size):\n",
    "    model = NeuralNetwork(input_dim, output_dim)\n",
    "    optimizer = optim.SGD(model.parameters(), lr=lr)\n",
    "    if optim_str == 'adam':\n",
    "        optimizer = optim.Adam(model.parameters(), lr=lr)\n",
    "            \n",
    "    dataloader = torch.utils.data.DataLoader(list(zip(X, y)), batch_size=batch_size, shuffle=True)\n",
    "    for epoch in range(num_epochs):\n",
    "        model.train()\n",
    "        for data, target in dataloader:\n",
    "            optimizer.zero_grad()\n",
    "            prediction = model(data)\n",
    "            loss = loss_fn(prediction, target)\n",
    "            loss.backward()\n",
    "            optimizer.step()\n",
    "    \n",
    "    return model"
   ]
  },
  {
   "cell_type": "code",
   "execution_count": null,
   "id": "1e689091",
   "metadata": {},
   "outputs": [],
   "source": [
    "N_EPOCHS = 100\n",
    "BATCH_SIZE = 64\n",
    "loss_fn = nn.CrossEntropyLoss()\n",
    "lr = 0.02\n",
    "optimizer = 'adam'\n",
    "\n",
    "X_torch = torch.tensor(X, dtype=torch.float32)\n",
    "y_torch = torch.tensor(y, dtype=torch.int64)\n",
    "\n",
    "acc_nn, f1_nn = [], []\n",
    "for i in range(10):\n",
    "    X_train, X_test, y_train, y_test = train_test_split(X_torch, y_torch, test_size = 0.2, random_state = i)\n",
    "    model = train_model(X_train, y_train, input_dim, output_dim, loss_fn, lr, optimizer, N_EPOCHS, BATCH_SIZE)\n",
    "    \n",
    "    model.eval()\n",
    "    with torch.no_grad():\n",
    "        predictions = model(torch.tensor(X_test, dtype=torch.float32))\n",
    "                            \n",
    "    _, y_pred = torch.max(predictions, dim=1)\n",
    "    y_pred = y_pred.numpy()\n",
    "                            \n",
    "    acc_nn.append(accuracy_score(y_test, y_pred))\n",
    "    f1_nn.append(f1_score(y_test, y_pred))"
   ]
  },
  {
   "cell_type": "markdown",
   "id": "43b88501",
   "metadata": {},
   "source": [
    "### Store results as CSV"
   ]
  },
  {
   "cell_type": "code",
   "execution_count": null,
   "id": "669cd69f",
   "metadata": {},
   "outputs": [],
   "source": [
    "df = pd.DataFrame({'acc_rf': acc_rf, 'f1_rf': f1_rf, 'acc_lr': acc_lr, 'f1_lr': f1_lr,\n",
    "                 'acc_mlp': acc_mlp, 'f1_mlp': f1_mlp, 'acc_nn': acc_nn, 'f1_nn': f1_nn,\n",
    "                 'acc_gb': acc_gb, 'f1_gb': f1_gb, 'acc_cb': acc_cb, 'f1_cb': f1_cb})\n",
    "\n",
    "df.to_csv('oulad_pass_fail_central.csv', index = False)"
   ]
  }
 ],
 "metadata": {
  "kernelspec": {
   "display_name": "Python [conda env:swarm]",
   "language": "python",
   "name": "conda-env-swarm-py"
  },
  "language_info": {
   "codemirror_mode": {
    "name": "ipython",
    "version": 3
   },
   "file_extension": ".py",
   "mimetype": "text/x-python",
   "name": "python",
   "nbconvert_exporter": "python",
   "pygments_lexer": "ipython3",
   "version": "3.10.11"
  }
 },
 "nbformat": 4,
 "nbformat_minor": 5
}
