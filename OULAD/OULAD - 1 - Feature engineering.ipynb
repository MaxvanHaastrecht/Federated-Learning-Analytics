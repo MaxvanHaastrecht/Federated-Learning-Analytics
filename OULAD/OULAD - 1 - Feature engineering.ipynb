{
 "cells": [
  {
   "cell_type": "markdown",
   "id": "8d258873",
   "metadata": {},
   "source": [
    "The data used for this notebook can be downloaded from https://analyse.kmi.open.ac.uk/open_dataset. After unzipping the 'anonymisedData' folder, you can either place it in the directory of your code, or alter the directory references when reading the CSV files. No further preprocessing is required for the code of this notebook to work."
   ]
  },
  {
   "cell_type": "markdown",
   "id": "1893648d",
   "metadata": {},
   "source": [
    "### Import libraries and read CSVs"
   ]
  },
  {
   "cell_type": "code",
   "execution_count": null,
   "id": "61c1f966",
   "metadata": {},
   "outputs": [],
   "source": [
    "import pandas as pd\n",
    "import numpy as np\n",
    "\n",
    "df_vle = pd.read_csv('anonymisedData/vle.csv')\n",
    "df_assessments = pd.read_csv('anonymisedData/assessments.csv')\n",
    "\n",
    "df_student_vle = pd.read_csv('anonymisedData/studentVle.csv')\n",
    "df_student_info = pd.read_csv('anonymisedData/studentInfo.csv')\n",
    "df_student_assessment = pd.read_csv('anonymisedData/studentAssessment.csv')\n",
    "\n",
    "df_student_vle.head()"
   ]
  },
  {
   "cell_type": "markdown",
   "id": "c99390de",
   "metadata": {},
   "source": [
    "### Create dictionaries with activity and module information"
   ]
  },
  {
   "cell_type": "code",
   "execution_count": null,
   "id": "b7b906d2",
   "metadata": {},
   "outputs": [],
   "source": [
    "id_site_dict = {}\n",
    "for id_site, activity_type in zip(df_vle['id_site'], df_vle['activity_type']):\n",
    "    if id_site in id_site_dict:\n",
    "        continue\n",
    "    else:\n",
    "        id_site_dict[id_site] = activity_type\n",
    "        \n",
    "module_assignment_dates_dict = {}\n",
    "for module, pres, date in zip(df_assessments['code_module'], df_assessments['code_presentation'], df_assessments['date']):\n",
    "    if str(date) == 'nan':\n",
    "        continue\n",
    "        \n",
    "    concat = module + '_' + pres\n",
    "    if concat in module_assignment_dates_dict:\n",
    "        module_assignment_dates_dict[concat]['before'].append(date - 1)\n",
    "        module_assignment_dates_dict[concat]['on'].append(date)\n",
    "        module_assignment_dates_dict[concat]['after'].append(date + 1)\n",
    "    else:\n",
    "        module_assignment_dates_dict[concat] = {'before': [date - 1], 'on': [date], 'after': [date + 1]}"
   ]
  },
  {
   "cell_type": "markdown",
   "id": "f74a81d1",
   "metadata": {},
   "source": [
    "### Create basic activity count features"
   ]
  },
  {
   "cell_type": "code",
   "execution_count": null,
   "id": "902f155e",
   "metadata": {},
   "outputs": [],
   "source": [
    "unique_ids = [f'{student}_{module}_{pres}' for student, module, pres in\n",
    "                  zip(df_student_info['id_student'], df_student_info['code_module'], df_student_info['code_presentation'])]\n",
    "\n",
    "features_df = pd.DataFrame({'id': unique_ids})\n",
    "for (id_site, date_condition), group_df in df_student_vle.groupby(['id_site', df_student_vle['date'] >= 0]):\n",
    "    group_df['id'] = [f'{student}_{module}_{pres}' for student, module, pres in\n",
    "                  zip(group_df['id_student'], group_df['code_module'], group_df['code_presentation'])]\n",
    "    \n",
    "    feature_name = f'{\"AC\" if date_condition else \"BC\"}_{id_site_dict[id_site]}'\n",
    "\n",
    "    feature_values = group_df.groupby('id')['sum_click'].sum().reset_index()\n",
    "    \n",
    "    temp_df = pd.DataFrame({'id': unique_ids})\n",
    "    feature_values = pd.merge(temp_df, feature_values, on='id', how='left')\n",
    "    feature_values.fillna(0, inplace=True)\n",
    "\n",
    "    if feature_name in features_df.columns:\n",
    "        features_df[feature_name] += feature_values['sum_click']\n",
    "    else:\n",
    "        features_df[feature_name] = feature_values['sum_click']"
   ]
  },
  {
   "cell_type": "markdown",
   "id": "a5e9e4c2",
   "metadata": {},
   "source": [
    "### Create dummy variables"
   ]
  },
  {
   "cell_type": "code",
   "execution_count": null,
   "id": "b5cc7d25",
   "metadata": {},
   "outputs": [],
   "source": [
    "merge_df = pd.DataFrame({'id': unique_ids})\n",
    "\n",
    "region_dummies = pd.get_dummies(df_student_info['region'])\n",
    "imd_dummies = pd.get_dummies(df_student_info['imd_band'])\n",
    "edu_dummies = pd.get_dummies(df_student_info['highest_education'])\n",
    "age_dummies = pd.get_dummies(df_student_info['age_band'])\n",
    "\n",
    "gender_binary = pd.Series(np.where(df_student_info['gender'] == 'F', 1, 0), name = 'gender')\n",
    "disability_binary = pd.Series(np.where(df_student_info['disability'] == 'Y', 1, 0), name = 'disability')\n",
    "\n",
    "merge_df = pd.concat([merge_df['id'], region_dummies.reset_index(drop=True), imd_dummies.reset_index(drop=True),\n",
    "                      edu_dummies.reset_index(drop=True), age_dummies.reset_index(drop=True),\n",
    "                      gender_binary.reset_index(drop=True), disability_binary.reset_index(drop=True),\n",
    "                      df_student_info['num_of_prev_attempts'], df_student_info['studied_credits'],\n",
    "                      df_student_info['final_result']], axis = 1)\n",
    "\n",
    "features_df = pd.merge(features_df, merge_df, on='id', how='left')"
   ]
  },
  {
   "cell_type": "markdown",
   "id": "a5829dc4",
   "metadata": {},
   "source": [
    "### Create total click features"
   ]
  },
  {
   "cell_type": "code",
   "execution_count": null,
   "id": "fa3cefb2",
   "metadata": {},
   "outputs": [],
   "source": [
    "df_student_vle['id'] = [f'{student}_{module}_{pres}' for student, module, pres in\n",
    "                  zip(df_student_vle['id_student'], df_student_vle['code_module'], df_student_vle['code_presentation'])]\n",
    "\n",
    "total_clicks = df_student_vle.groupby('id')['sum_click'].sum().reset_index()\n",
    "total_clicks_bc = df_student_vle[df_student_vle['date'] < 0].groupby('id')['sum_click'].sum().reset_index()\n",
    "total_clicks_ac = df_student_vle[df_student_vle['date'] >= 0].groupby('id')['sum_click'].sum().reset_index()\n",
    "\n",
    "temp_df = pd.DataFrame({'id': unique_ids})\n",
    "\n",
    "total_df = pd.merge(temp_df, total_clicks, on='id', how='left')\n",
    "total_df.fillna(0, inplace=True)\n",
    "\n",
    "total_bc_df = pd.merge(temp_df, total_clicks_bc, on='id', how='left')\n",
    "total_bc_df.fillna(0, inplace=True)\n",
    "\n",
    "total_ac_df = pd.merge(temp_df, total_clicks_ac, on='id', how='left')\n",
    "total_ac_df.fillna(0, inplace=True)\n",
    "\n",
    "features_df['total_clicks'] = total_df['sum_click']\n",
    "features_df['BC_total_clicks'] = total_bc_df['sum_click']\n",
    "features_df['AC_total_clicks'] = total_ac_df['sum_click']"
   ]
  },
  {
   "cell_type": "markdown",
   "id": "26f305a7",
   "metadata": {},
   "source": [
    "### Create features of click count before, on, after assignment dates"
   ]
  },
  {
   "cell_type": "code",
   "execution_count": null,
   "id": "ae8414ac",
   "metadata": {},
   "outputs": [],
   "source": [
    "before_as_clicks = {}\n",
    "on_as_clicks = {}\n",
    "after_as_clicks = {}\n",
    "for student_id, date, sum_click in zip(df_student_vle['id'],df_student_vle['date'],df_student_vle['sum_click']):\n",
    "    pres_id = student_id[-9:]\n",
    "    \n",
    "    before_dates = module_assignment_dates_dict[pres_id]['before']\n",
    "    on_dates = module_assignment_dates_dict[pres_id]['on']\n",
    "    after_dates = module_assignment_dates_dict[pres_id]['after']\n",
    "    \n",
    "    if date in before_dates:\n",
    "        if student_id in before_as_clicks:\n",
    "            before_as_clicks[student_id] += sum_click\n",
    "        else:\n",
    "            before_as_clicks[student_id] = sum_click\n",
    "    elif date in on_dates:\n",
    "        if student_id in on_as_clicks:\n",
    "            on_as_clicks[student_id] += sum_click\n",
    "        else:\n",
    "            on_as_clicks[student_id] = sum_click\n",
    "    elif date in after_dates:\n",
    "        if student_id in after_as_clicks:\n",
    "            after_as_clicks[student_id] += sum_click\n",
    "        else:\n",
    "            after_as_clicks[student_id] = sum_click\n",
    "    else:\n",
    "        continue\n",
    "        \n",
    "temp_df = pd.DataFrame({'id': unique_ids})\n",
    "\n",
    "before_clicks = pd.DataFrame(list(before_as_clicks.items()), columns=['id', 'sum_click'])\n",
    "before_df = pd.merge(temp_df, before_clicks, on='id', how='left')\n",
    "before_df.fillna(0, inplace=True)\n",
    "\n",
    "on_clicks = pd.DataFrame(list(on_as_clicks.items()), columns=['id', 'sum_click'])\n",
    "on_df = pd.merge(temp_df, on_clicks, on='id', how='left')\n",
    "on_df.fillna(0, inplace=True)\n",
    "\n",
    "after_clicks = pd.DataFrame(list(after_as_clicks.items()), columns=['id', 'sum_click'])\n",
    "after_df = pd.merge(temp_df, after_clicks, on='id', how='left')\n",
    "after_df.fillna(0, inplace=True)\n",
    "\n",
    "features_df['Before_As_Clicks'] = before_df['sum_click']\n",
    "features_df['On_As_Clicks'] = on_df['sum_click']\n",
    "features_df['After_As_Clicks'] = after_df['sum_click']"
   ]
  },
  {
   "cell_type": "markdown",
   "id": "467c47b5",
   "metadata": {},
   "source": [
    "### Create dataframes for each scenario and write to CSV"
   ]
  },
  {
   "cell_type": "code",
   "execution_count": null,
   "id": "a0b10215",
   "metadata": {},
   "outputs": [],
   "source": [
    "def scenario_create_x_y(scenario, df):\n",
    "    X = None\n",
    "    y = None\n",
    "    if scenario == 'pass-fail':\n",
    "        df = df[df['final_result'] != 'Withdrawn']\n",
    "        assert(len(df) == 22437)\n",
    "        \n",
    "        X = df.drop(['id', 'final_result'], axis = 1)\n",
    "        y = pd.Series(df['final_result'].replace({'Pass': 0, 'Distinction': 0, 'Fail': 1}))\n",
    "    elif scenario == 'fail-distinction':\n",
    "        df = df[(df['final_result'] != 'Withdrawn') & (df['final_result'] != 'Pass')]\n",
    "        assert(len(df) == 10076)\n",
    "        \n",
    "        X = df.drop(['id', 'final_result'], axis = 1)\n",
    "        y = pd.Series(df['final_result'].replace({'Fail': 0, 'Distinction': 1}))\n",
    "    elif scenario == 'pass-distinction':\n",
    "        df = df[(df['final_result'] != 'Withdrawn') & (df['final_result'] != 'Fail')]\n",
    "        assert(len(df) == 15385)\n",
    "        \n",
    "        X = df.drop(['id', 'final_result'], axis = 1)\n",
    "        y = pd.Series(df['final_result'].replace({'Pass': 0, 'Distinction': 1}))\n",
    "    elif scenario == 'pass-withdrawn':\n",
    "        df = df[df['final_result'] != 'Fail']\n",
    "        assert(len(df) == 25541)\n",
    "        \n",
    "        X = df.drop(['id', 'final_result'], axis = 1)\n",
    "        y = pd.Series(df['final_result'].replace({'Pass': 0, 'Distinction': 0, 'Withdrawn': 1}))\n",
    "    else:\n",
    "        print('Invalid scenario. Please choose from: pass-fail, fail-distinction, distinction-pass, pass-withdrawn.')\n",
    "        \n",
    "    return X, y"
   ]
  },
  {
   "cell_type": "code",
   "execution_count": null,
   "id": "a4873a7a",
   "metadata": {},
   "outputs": [],
   "source": [
    "df_copy = features_df.copy()\n",
    "\n",
    "X, y = scenario_create_x_y('pass-fail', df_copy)\n",
    "X.to_csv('oulad_pass_fail_x.csv', index = False)\n",
    "y.to_csv('oulad_pass_fail_y.csv', index = False)\n",
    "\n",
    "X, y = scenario_create_x_y('fail-distinction', df_copy)\n",
    "X.to_csv('oulad_fail_distinction_x.csv', index = False)\n",
    "y.to_csv('oulad_fail_distinction_y.csv', index = False)\n",
    "\n",
    "X, y = scenario_create_x_y('pass-distinction', df_copy)\n",
    "X.to_csv('oulad_pass_distinction_x.csv', index = False)\n",
    "y.to_csv('oulad_pass_distinction_y.csv', index = False)\n",
    "\n",
    "X, y = scenario_create_x_y('pass-withdrawn', df_copy)\n",
    "X.to_csv('oulad_pass_withdrawn_x.csv', index = False)\n",
    "y.to_csv('oulad_pass_withdrawn_y.csv', index = False)"
   ]
  }
 ],
 "metadata": {
  "kernelspec": {
   "display_name": "Python [conda env:swarm]",
   "language": "python",
   "name": "conda-env-swarm-py"
  },
  "language_info": {
   "codemirror_mode": {
    "name": "ipython",
    "version": 3
   },
   "file_extension": ".py",
   "mimetype": "text/x-python",
   "name": "python",
   "nbconvert_exporter": "python",
   "pygments_lexer": "ipython3",
   "version": "3.10.11"
  }
 },
 "nbformat": 4,
 "nbformat_minor": 5
}
